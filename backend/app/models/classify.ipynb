{
 "cells": [
  {
   "cell_type": "code",
   "execution_count": 12,
   "metadata": {},
   "outputs": [],
   "source": [
    "import pandas as pd\n",
    "import numpy as np\n",
    "import re\n",
    "import nltk\n",
    "from nltk.tokenize import word_tokenize\n",
    "from fuzzywuzzy import process  # Fuzzy matching for ingredient variations\n",
    "from multiprocessing import Pool, cpu_count\n",
    "import dask.dataframe as dd\n"
   ]
  },
  {
   "cell_type": "code",
   "execution_count": 4,
   "metadata": {},
   "outputs": [],
   "source": [
    "df = pd.read_csv('clustered_restaurant_data.csv')"
   ]
  },
  {
   "cell_type": "code",
   "execution_count": 23,
   "metadata": {},
   "outputs": [],
   "source": [
    "craving_categories = {\n",
    "    \"Spicy\": [\"spicy\", \"chilies\", \"coriander\", \"pepper\", \"hot sauce\", \"jalapeno\"],\n",
    "    \"Salty\": [\"olives\", \"capers\", \"anchovies\", \"salted\", \"soy sauce\"],\n",
    "    \"Comforting\": [\"soup\", \"broth\", \"creamy\", \"stew\", \"pumpkin\", \"minestrone\"],\n",
    "    \"Light\": [\"lettuce\", \"salad\", \"boiled egg\", \"fresh\", \"basil\", \"oregano\"],\n",
    "    \"Cheesy\": [\"mozzarella\", \"parmesan\", \"cheese\", \"ricotta\"],\n",
    "    \"Heart\": [\"chicken\", \"bacon\", \"mushrooms\", \"meat sauce\", \"beef\", \"pork\"],\n",
    "    \"Veggie\": [\"spinach\", \"zucchini\", \"eggplant\", \"vegetables\", \"tomato\", \"garlic\"],\n",
    "}"
   ]
  },
  {
   "cell_type": "code",
   "execution_count": 24,
   "metadata": {},
   "outputs": [
    {
     "name": "stdout",
     "output_type": "stream",
     "text": [
      "         Restaurant_name                                Restaurant_url  \\\n",
      "0  Fire And Ice Pizzeria  https://foodmandu.com/Restaurant/Details/269   \n",
      "1  Fire And Ice Pizzeria  https://foodmandu.com/Restaurant/Details/269   \n",
      "2  Fire And Ice Pizzeria  https://foodmandu.com/Restaurant/Details/269   \n",
      "3  Fire And Ice Pizzeria  https://foodmandu.com/Restaurant/Details/269   \n",
      "4  Fire And Ice Pizzeria  https://foodmandu.com/Restaurant/Details/269   \n",
      "\n",
      "  Restaurant_location  Restaurant_minimum_order  \\\n",
      "0              Thamel                       500   \n",
      "1              Thamel                       500   \n",
      "2              Thamel                       500   \n",
      "3              Thamel                       500   \n",
      "4              Thamel                       500   \n",
      "\n",
      "   Restaurant_additional_service_charge Restaurant_additional_VAT  \\\n",
      "0                                  10.0                      Soup   \n",
      "1                                  10.0                      Soup   \n",
      "2                                  10.0                      Soup   \n",
      "3                                  10.0                      Soup   \n",
      "4                                  10.0                      Soup   \n",
      "\n",
      "  Restaurant_categories_name  \\\n",
      "0                       Soup   \n",
      "1                       Soup   \n",
      "2                       Soup   \n",
      "3              Organic Salad   \n",
      "4              Organic Salad   \n",
      "\n",
      "          Restaurant_categories_food_item_ingredient  \\\n",
      "0         Cream of pumpkin soup with focaccia bread.   \n",
      "1  Traditional minestrone soup served with focacc...   \n",
      "2  Traditional Italian cream of tomato soup with ...   \n",
      "3  Mixed lettuce with boiled eggs, homemade dress...   \n",
      "4  Mixed lettuce with a boiled egg, homemade dres...   \n",
      "\n",
      "   Restaurant_categories_food_item_price  Cluster Craving_Category  \n",
      "0                                  445.0        2       Comforting  \n",
      "1                                  460.0        2       Comforting  \n",
      "2                                  445.0        2       Comforting  \n",
      "3                                  380.0        2            Light  \n",
      "4                                  585.0        2            Light  \n"
     ]
    }
   ],
   "source": [
    "import re\n",
    "\n",
    "# Convert craving categories to sets for fast lookup\n",
    "craving_categories_sets = {category: set(keywords) for category, keywords in craving_categories.items()}\n",
    "\n",
    "# Function to categorize food efficiently\n",
    "def categorize_food(ingredients):\n",
    "    if pd.isna(ingredients):\n",
    "        return \"Uncategorized\"\n",
    "    \n",
    "    tokens = set(re.split(r'\\W+', ingredients.lower()))  # Tokenize by splitting non-words\n",
    "    for category, keywords in craving_categories_sets.items():\n",
    "        if tokens & keywords:  # Fast set intersection\n",
    "            return category\n",
    "    return \"Uncategorized\"\n",
    "\n",
    "# Apply function to categorize food items\n",
    "df['Craving_Category'] = df['Restaurant_categories_food_item_ingredient'].apply(categorize_food)\n",
    "\n",
    "# Save categorized dataset\n",
    "df.to_csv('categorized_large_dataset.csv', index=False)\n",
    "\n",
    "# Display sample output\n",
    "print(df.head())\n"
   ]
  },
  {
   "cell_type": "code",
   "execution_count": null,
   "metadata": {},
   "outputs": [],
   "source": []
  },
  {
   "cell_type": "code",
   "execution_count": null,
   "metadata": {},
   "outputs": [],
   "source": []
  }
 ],
 "metadata": {
  "kernelspec": {
   "display_name": "venv",
   "language": "python",
   "name": "python3"
  },
  "language_info": {
   "codemirror_mode": {
    "name": "ipython",
    "version": 3
   },
   "file_extension": ".py",
   "mimetype": "text/x-python",
   "name": "python",
   "nbconvert_exporter": "python",
   "pygments_lexer": "ipython3",
   "version": "3.12.6"
  }
 },
 "nbformat": 4,
 "nbformat_minor": 2
}
