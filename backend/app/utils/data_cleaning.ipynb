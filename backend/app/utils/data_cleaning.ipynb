{
 "cells": [
  {
   "cell_type": "markdown",
   "metadata": {},
   "source": [
    "## CLEANING THE DATASETS"
   ]
  },
  {
   "cell_type": "code",
   "execution_count": 79,
   "metadata": {},
   "outputs": [],
   "source": [
    "#importing libraries and datasets required\n",
    "import pandas as pd"
   ]
  },
  {
   "cell_type": "code",
   "execution_count": 88,
   "metadata": {},
   "outputs": [],
   "source": [
    "df = pd.read_csv(\"../../data/raw/foodmandu_Restaurants_food_details.csv\")"
   ]
  },
  {
   "cell_type": "code",
   "execution_count": 94,
   "metadata": {},
   "outputs": [
    {
     "data": {
      "text/html": [
       "<div>\n",
       "<style scoped>\n",
       "    .dataframe tbody tr th:only-of-type {\n",
       "        vertical-align: middle;\n",
       "    }\n",
       "\n",
       "    .dataframe tbody tr th {\n",
       "        vertical-align: top;\n",
       "    }\n",
       "\n",
       "    .dataframe thead th {\n",
       "        text-align: right;\n",
       "    }\n",
       "</style>\n",
       "<table border=\"1\" class=\"dataframe\">\n",
       "  <thead>\n",
       "    <tr style=\"text-align: right;\">\n",
       "      <th></th>\n",
       "      <th>Restaurant_name</th>\n",
       "      <th>Restaurant_url</th>\n",
       "      <th>Restaurant_location</th>\n",
       "      <th>Restaurant_minimum_order</th>\n",
       "      <th>Restaurant_additional_service_charge</th>\n",
       "      <th>Restaurant_additional_VAT</th>\n",
       "      <th>Restaurant_categories_name</th>\n",
       "      <th>Restaurant_categories_food_item_ingredient</th>\n",
       "      <th>Restaurant_categories_food_item_price</th>\n",
       "    </tr>\n",
       "  </thead>\n",
       "  <tbody>\n",
       "    <tr>\n",
       "      <th>0</th>\n",
       "      <td>Fire And Ice Pizzeria</td>\n",
       "      <td>https://foodmandu.com/Restaurant/Details/269</td>\n",
       "      <td>Thamel</td>\n",
       "      <td>Rs. 500.00</td>\n",
       "      <td>10 %</td>\n",
       "      <td>Soup</td>\n",
       "      <td>Soup</td>\n",
       "      <td>Cream of pumpkin soup with focaccia bread.</td>\n",
       "      <td>445.00</td>\n",
       "    </tr>\n",
       "    <tr>\n",
       "      <th>1</th>\n",
       "      <td>Fire And Ice Pizzeria</td>\n",
       "      <td>https://foodmandu.com/Restaurant/Details/269</td>\n",
       "      <td>Thamel</td>\n",
       "      <td>Rs. 500.00</td>\n",
       "      <td>10 %</td>\n",
       "      <td>Soup</td>\n",
       "      <td>Soup</td>\n",
       "      <td>Traditional minestrone soup served with focacc...</td>\n",
       "      <td>460.00</td>\n",
       "    </tr>\n",
       "    <tr>\n",
       "      <th>2</th>\n",
       "      <td>Fire And Ice Pizzeria</td>\n",
       "      <td>https://foodmandu.com/Restaurant/Details/269</td>\n",
       "      <td>Thamel</td>\n",
       "      <td>Rs. 500.00</td>\n",
       "      <td>10 %</td>\n",
       "      <td>Soup</td>\n",
       "      <td>Soup</td>\n",
       "      <td>Traditional Italian cream of tomato soup with ...</td>\n",
       "      <td>445.00</td>\n",
       "    </tr>\n",
       "    <tr>\n",
       "      <th>3</th>\n",
       "      <td>Fire And Ice Pizzeria</td>\n",
       "      <td>https://foodmandu.com/Restaurant/Details/269</td>\n",
       "      <td>Thamel</td>\n",
       "      <td>Rs. 500.00</td>\n",
       "      <td>10 %</td>\n",
       "      <td>Soup</td>\n",
       "      <td>Organic Salad</td>\n",
       "      <td>Mixed lettuce with boiled eggs, homemade dress...</td>\n",
       "      <td>380.00</td>\n",
       "    </tr>\n",
       "    <tr>\n",
       "      <th>4</th>\n",
       "      <td>Fire And Ice Pizzeria</td>\n",
       "      <td>https://foodmandu.com/Restaurant/Details/269</td>\n",
       "      <td>Thamel</td>\n",
       "      <td>Rs. 500.00</td>\n",
       "      <td>10 %</td>\n",
       "      <td>Soup</td>\n",
       "      <td>Organic Salad</td>\n",
       "      <td>Mixed lettuce with a boiled egg, homemade dres...</td>\n",
       "      <td>585.00</td>\n",
       "    </tr>\n",
       "  </tbody>\n",
       "</table>\n",
       "</div>"
      ],
      "text/plain": [
       "         Restaurant_name                                Restaurant_url  \\\n",
       "0  Fire And Ice Pizzeria  https://foodmandu.com/Restaurant/Details/269   \n",
       "1  Fire And Ice Pizzeria  https://foodmandu.com/Restaurant/Details/269   \n",
       "2  Fire And Ice Pizzeria  https://foodmandu.com/Restaurant/Details/269   \n",
       "3  Fire And Ice Pizzeria  https://foodmandu.com/Restaurant/Details/269   \n",
       "4  Fire And Ice Pizzeria  https://foodmandu.com/Restaurant/Details/269   \n",
       "\n",
       "  Restaurant_location Restaurant_minimum_order  \\\n",
       "0              Thamel               Rs. 500.00   \n",
       "1              Thamel               Rs. 500.00   \n",
       "2              Thamel               Rs. 500.00   \n",
       "3              Thamel               Rs. 500.00   \n",
       "4              Thamel               Rs. 500.00   \n",
       "\n",
       "  Restaurant_additional_service_charge Restaurant_additional_VAT  \\\n",
       "0                                 10 %                      Soup   \n",
       "1                                 10 %                      Soup   \n",
       "2                                 10 %                      Soup   \n",
       "3                                 10 %                      Soup   \n",
       "4                                 10 %                      Soup   \n",
       "\n",
       "  Restaurant_categories_name  \\\n",
       "0                       Soup   \n",
       "1                       Soup   \n",
       "2                       Soup   \n",
       "3              Organic Salad   \n",
       "4              Organic Salad   \n",
       "\n",
       "          Restaurant_categories_food_item_ingredient  \\\n",
       "0         Cream of pumpkin soup with focaccia bread.   \n",
       "1  Traditional minestrone soup served with focacc...   \n",
       "2  Traditional Italian cream of tomato soup with ...   \n",
       "3  Mixed lettuce with boiled eggs, homemade dress...   \n",
       "4  Mixed lettuce with a boiled egg, homemade dres...   \n",
       "\n",
       "  Restaurant_categories_food_item_price  \n",
       "0                                445.00  \n",
       "1                                460.00  \n",
       "2                                445.00  \n",
       "3                                380.00  \n",
       "4                                585.00  "
      ]
     },
     "execution_count": 94,
     "metadata": {},
     "output_type": "execute_result"
    }
   ],
   "source": [
    "df.head()"
   ]
  },
  {
   "cell_type": "code",
   "execution_count": 95,
   "metadata": {},
   "outputs": [
    {
     "data": {
      "text/html": [
       "<div>\n",
       "<style scoped>\n",
       "    .dataframe tbody tr th:only-of-type {\n",
       "        vertical-align: middle;\n",
       "    }\n",
       "\n",
       "    .dataframe tbody tr th {\n",
       "        vertical-align: top;\n",
       "    }\n",
       "\n",
       "    .dataframe thead th {\n",
       "        text-align: right;\n",
       "    }\n",
       "</style>\n",
       "<table border=\"1\" class=\"dataframe\">\n",
       "  <thead>\n",
       "    <tr style=\"text-align: right;\">\n",
       "      <th></th>\n",
       "      <th>Restaurant_name</th>\n",
       "      <th>Restaurant_url</th>\n",
       "      <th>Restaurant_location</th>\n",
       "      <th>Restaurant_minimum_order</th>\n",
       "      <th>Restaurant_additional_service_charge</th>\n",
       "      <th>Restaurant_additional_VAT</th>\n",
       "      <th>Restaurant_categories_name</th>\n",
       "      <th>Restaurant_categories_food_item_ingredient</th>\n",
       "      <th>Restaurant_categories_food_item_price</th>\n",
       "    </tr>\n",
       "  </thead>\n",
       "  <tbody>\n",
       "    <tr>\n",
       "      <th>1369</th>\n",
       "      <td>Sapporo Japanese Restaurant</td>\n",
       "      <td>https://foodmandu.com/Restaurant/Details/504</td>\n",
       "      <td>Baluwatar</td>\n",
       "      <td>Rs. 500.00</td>\n",
       "      <td>10 %</td>\n",
       "      <td>( 8 Pieces )</td>\n",
       "      <td>Beverages</td>\n",
       "      <td>Unknown</td>\n",
       "      <td>505.75</td>\n",
       "    </tr>\n",
       "    <tr>\n",
       "      <th>1370</th>\n",
       "      <td>Sapporo Japanese Restaurant</td>\n",
       "      <td>https://foodmandu.com/Restaurant/Details/504</td>\n",
       "      <td>Baluwatar</td>\n",
       "      <td>Rs. 500.00</td>\n",
       "      <td>10 %</td>\n",
       "      <td>( 8 Pieces )</td>\n",
       "      <td>Beverages</td>\n",
       "      <td>Unknown</td>\n",
       "      <td>335.75</td>\n",
       "    </tr>\n",
       "    <tr>\n",
       "      <th>1371</th>\n",
       "      <td>Sapporo Japanese Restaurant</td>\n",
       "      <td>https://foodmandu.com/Restaurant/Details/504</td>\n",
       "      <td>Baluwatar</td>\n",
       "      <td>Rs. 500.00</td>\n",
       "      <td>10 %</td>\n",
       "      <td>( 8 Pieces )</td>\n",
       "      <td>Beverages</td>\n",
       "      <td>Unknown</td>\n",
       "      <td>505.75</td>\n",
       "    </tr>\n",
       "    <tr>\n",
       "      <th>1372</th>\n",
       "      <td>Sapporo Japanese Restaurant</td>\n",
       "      <td>https://foodmandu.com/Restaurant/Details/504</td>\n",
       "      <td>Baluwatar</td>\n",
       "      <td>Rs. 500.00</td>\n",
       "      <td>10 %</td>\n",
       "      <td>( 8 Pieces )</td>\n",
       "      <td>Beverages</td>\n",
       "      <td>Unknown</td>\n",
       "      <td>335.75</td>\n",
       "    </tr>\n",
       "    <tr>\n",
       "      <th>1373</th>\n",
       "      <td>Sapporo Japanese Restaurant</td>\n",
       "      <td>https://foodmandu.com/Restaurant/Details/504</td>\n",
       "      <td>Baluwatar</td>\n",
       "      <td>Rs. 500.00</td>\n",
       "      <td>10 %</td>\n",
       "      <td>( 8 Pieces )</td>\n",
       "      <td>Beverages</td>\n",
       "      <td>Unknown</td>\n",
       "      <td>505.75</td>\n",
       "    </tr>\n",
       "  </tbody>\n",
       "</table>\n",
       "</div>"
      ],
      "text/plain": [
       "                  Restaurant_name  \\\n",
       "1369  Sapporo Japanese Restaurant   \n",
       "1370  Sapporo Japanese Restaurant   \n",
       "1371  Sapporo Japanese Restaurant   \n",
       "1372  Sapporo Japanese Restaurant   \n",
       "1373  Sapporo Japanese Restaurant   \n",
       "\n",
       "                                    Restaurant_url Restaurant_location  \\\n",
       "1369  https://foodmandu.com/Restaurant/Details/504           Baluwatar   \n",
       "1370  https://foodmandu.com/Restaurant/Details/504           Baluwatar   \n",
       "1371  https://foodmandu.com/Restaurant/Details/504           Baluwatar   \n",
       "1372  https://foodmandu.com/Restaurant/Details/504           Baluwatar   \n",
       "1373  https://foodmandu.com/Restaurant/Details/504           Baluwatar   \n",
       "\n",
       "     Restaurant_minimum_order Restaurant_additional_service_charge  \\\n",
       "1369               Rs. 500.00                                 10 %   \n",
       "1370               Rs. 500.00                                 10 %   \n",
       "1371               Rs. 500.00                                 10 %   \n",
       "1372               Rs. 500.00                                 10 %   \n",
       "1373               Rs. 500.00                                 10 %   \n",
       "\n",
       "     Restaurant_additional_VAT Restaurant_categories_name  \\\n",
       "1369              ( 8 Pieces )                  Beverages   \n",
       "1370              ( 8 Pieces )                  Beverages   \n",
       "1371              ( 8 Pieces )                  Beverages   \n",
       "1372              ( 8 Pieces )                  Beverages   \n",
       "1373              ( 8 Pieces )                  Beverages   \n",
       "\n",
       "     Restaurant_categories_food_item_ingredient  \\\n",
       "1369                                    Unknown   \n",
       "1370                                    Unknown   \n",
       "1371                                    Unknown   \n",
       "1372                                    Unknown   \n",
       "1373                                    Unknown   \n",
       "\n",
       "     Restaurant_categories_food_item_price  \n",
       "1369                                505.75  \n",
       "1370                                335.75  \n",
       "1371                                505.75  \n",
       "1372                                335.75  \n",
       "1373                                505.75  "
      ]
     },
     "execution_count": 95,
     "metadata": {},
     "output_type": "execute_result"
    }
   ],
   "source": [
    "df.tail()"
   ]
  },
  {
   "cell_type": "code",
   "execution_count": 90,
   "metadata": {},
   "outputs": [
    {
     "data": {
      "text/plain": [
       "Restaurant_name                                 0\n",
       "Restaurant_url                                  0\n",
       "Restaurant_location                            68\n",
       "Restaurant_minimum_order                        1\n",
       "Restaurant_additional_service_charge          700\n",
       "Restaurant_additional_VAT                       1\n",
       "Restaurant_categories_name                      1\n",
       "Restaurant_categories_food_item_ingredient    743\n",
       "Restaurant_categories_food_item_price           1\n",
       "dtype: int64"
      ]
     },
     "execution_count": 90,
     "metadata": {},
     "output_type": "execute_result"
    }
   ],
   "source": [
    "df.isna().sum()"
   ]
  },
  {
   "cell_type": "code",
   "execution_count": 91,
   "metadata": {},
   "outputs": [],
   "source": [
    "df[\"Restaurant_location\"].fillna(\"Unknown\", inplace = True)\n",
    "df[\"Restaurant_categories_food_item_ingredient\"].fillna(\"Unknown\", inplace = True)"
   ]
  },
  {
   "cell_type": "code",
   "execution_count": 92,
   "metadata": {},
   "outputs": [],
   "source": [
    "df.dropna(inplace=True)"
   ]
  },
  {
   "cell_type": "code",
   "execution_count": 93,
   "metadata": {},
   "outputs": [
    {
     "data": {
      "text/plain": [
       "Restaurant_name                               0\n",
       "Restaurant_url                                0\n",
       "Restaurant_location                           0\n",
       "Restaurant_minimum_order                      0\n",
       "Restaurant_additional_service_charge          0\n",
       "Restaurant_additional_VAT                     0\n",
       "Restaurant_categories_name                    0\n",
       "Restaurant_categories_food_item_ingredient    0\n",
       "Restaurant_categories_food_item_price         0\n",
       "dtype: int64"
      ]
     },
     "execution_count": 93,
     "metadata": {},
     "output_type": "execute_result"
    }
   ],
   "source": [
    "df.isna().sum()"
   ]
  },
  {
   "cell_type": "code",
   "execution_count": 83,
   "metadata": {},
   "outputs": [
    {
     "name": "stdout",
     "output_type": "stream",
     "text": [
      "Restaurant_name                               object\n",
      "Restaurant_url                                object\n",
      "Restaurant_location                           object\n",
      "Restaurant_minimum_order                      object\n",
      "Restaurant_additional_service_charge          object\n",
      "Restaurant_additional_VAT                     object\n",
      "Restaurant_categories_name                    object\n",
      "Restaurant_categories_food_item_ingredient    object\n",
      "Restaurant_categories_food_item_price         object\n",
      "dtype: object\n"
     ]
    }
   ],
   "source": [
    "print(df.dtypes)\n"
   ]
  },
  {
   "cell_type": "code",
   "execution_count": 96,
   "metadata": {},
   "outputs": [],
   "source": [
    "df[\"Restaurant_name\"] = df[\"Restaurant_name\"].astype(str)\n",
    "df[\"Restaurant_url\"] = df[\"Restaurant_url\"].astype(str)\n",
    "df[\"Restaurant_location\"] = df[\"Restaurant_location\"].astype(str)\n",
    "df[\"Restaurant_categories_name\"] = df[\"Restaurant_categories_name\"].astype(str)\n",
    "df[\"Restaurant_categories_food_item_ingredient\"] = df[\"Restaurant_categories_food_item_ingredient\"].astype(str)"
   ]
  },
  {
   "cell_type": "code",
   "execution_count": 97,
   "metadata": {},
   "outputs": [
    {
     "data": {
      "text/plain": [
       "Restaurant_name                               0\n",
       "Restaurant_url                                0\n",
       "Restaurant_location                           0\n",
       "Restaurant_minimum_order                      0\n",
       "Restaurant_additional_service_charge          0\n",
       "Restaurant_additional_VAT                     0\n",
       "Restaurant_categories_name                    0\n",
       "Restaurant_categories_food_item_ingredient    0\n",
       "Restaurant_categories_food_item_price         0\n",
       "dtype: int64"
      ]
     },
     "execution_count": 97,
     "metadata": {},
     "output_type": "execute_result"
    }
   ],
   "source": [
    "df.isna().sum()"
   ]
  },
  {
   "cell_type": "code",
   "execution_count": 98,
   "metadata": {},
   "outputs": [],
   "source": [
    "df[\"Restaurant_minimum_order\"] = df[\"Restaurant_minimum_order\"].str.split(' ').str[1].str.split('.').str[0].astype(int)"
   ]
  },
  {
   "cell_type": "code",
   "execution_count": 100,
   "metadata": {},
   "outputs": [],
   "source": [
    "df[\"Restaurant_categories_food_item_price\"] = df[\"Restaurant_categories_food_item_price\"].str.replace(',', '').astype(float)"
   ]
  },
  {
   "cell_type": "code",
   "execution_count": 102,
   "metadata": {},
   "outputs": [],
   "source": [
    "df[\"Restaurant_additional_service_charge\"] = df[\"Restaurant_additional_service_charge\"].str.replace('%', '').astype(float)"
   ]
  },
  {
   "cell_type": "code",
   "execution_count": null,
   "metadata": {},
   "outputs": [
    {
     "ename": "",
     "evalue": "",
     "output_type": "error",
     "traceback": [
      "\u001b[1;31mThe Kernel crashed while executing code in the current cell or a previous cell. \n",
      "\u001b[1;31mPlease review the code in the cell(s) to identify a possible cause of the failure. \n",
      "\u001b[1;31mClick <a href='https://aka.ms/vscodeJupyterKernelCrash'>here</a> for more info. \n",
      "\u001b[1;31mView Jupyter <a href='command:jupyter.viewOutput'>log</a> for further details."
     ]
    }
   ],
   "source": [
    "df.to_csv(\"../../data/processed/dataset.csv\", index=False)"
   ]
  },
  {
   "cell_type": "code",
   "execution_count": null,
   "metadata": {},
   "outputs": [],
   "source": []
  }
 ],
 "metadata": {
  "kernelspec": {
   "display_name": "venv",
   "language": "python",
   "name": "python3"
  },
  "language_info": {
   "codemirror_mode": {
    "name": "ipython",
    "version": 3
   },
   "file_extension": ".py",
   "mimetype": "text/x-python",
   "name": "python",
   "nbconvert_exporter": "python",
   "pygments_lexer": "ipython3",
   "version": "3.12.6"
  }
 },
 "nbformat": 4,
 "nbformat_minor": 2
}
