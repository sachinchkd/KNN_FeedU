{
 "cells": [
  {
   "cell_type": "code",
   "execution_count": 23,
   "metadata": {},
   "outputs": [],
   "source": [
    "import pandas as pd\n",
    "import numpy as np\n",
    "from sklearn.preprocessing import StandardScaler, LabelEncoder\n",
    "from sklearn.neighbors import KNeighborsClassifier\n",
    "from sklearn.model_selection import train_test_split,cross_val_score\n",
    "from sklearn.metrics import classification_report, accuracy_score\n",
    "from sklearn.pipeline import Pipeline\n",
    "from sklearn.model_selection import GridSearchCV\n",
    "import pickle"
   ]
  },
  {
   "cell_type": "code",
   "execution_count": 24,
   "metadata": {},
   "outputs": [],
   "source": [
    "with open(\"food_recommendation_knn.pkl\", \"rb\") as model_file:\n",
    "    grid_search = pickle.load(model_file)\n",
    "\n",
    "with open(\"label_encoder.pkl\", \"rb\") as encoder_file:\n",
    "    label_encoder = pickle.load(encoder_file)\n",
    "\n",
    "# Define categorical options (same as training)\n",
    "possible_locations = ['Baluwatar', 'Thamel', 'Kupondole', 'Dhumbarahi', 'Hariharbhawan']\n",
    "possible_price_ranges = ['price_range_budget', 'price_range_moderate', 'price_range_premium', 'price_range_luxury']\n",
    "possible_craving_categories = ['Craving_Category_Cheesy', 'Craving_Category_Comforting', 'Craving_Category_Heart',\n",
    "                              'Craving_Category_Light', 'Craving_Category_Salty', 'Craving_Category_Spicy',\n",
    "                              'Craving_Category_Uncategorized', 'Craving_Category_Veggie']\n"
   ]
  },
  {
   "cell_type": "code",
   "execution_count": 30,
   "metadata": {},
   "outputs": [],
   "source": [
    "X = ['Craving_Category_Cheesy', 'Craving_Category_Comforting',\n",
    "       'Craving_Category_Heart', 'Craving_Category_Light',\n",
    "       'Craving_Category_Salty', 'Craving_Category_Spicy',\n",
    "       'Craving_Category_Uncategorized', 'Craving_Category_Veggie',\n",
    "       'price_range_budget', 'price_range_moderate', 'price_range_premium',\n",
    "       'price_range_luxury', 'location_encoded']"
   ]
  },
  {
   "cell_type": "code",
   "execution_count": 31,
   "metadata": {},
   "outputs": [],
   "source": [
    "# Dummy input\n",
    "# Dummy input\n",
    "dummy_input = pd.DataFrame({\n",
    "    'location_encoded': [2],  # Example location encoding\n",
    "    'price_range_budget': [0],\n",
    "    'price_range_moderate': [1],  # Example: moderate pricing\n",
    "    'price_range_premium': [0],\n",
    "    'price_range_luxury': [0],\n",
    "    'Craving_Category_Cheesy': [0],\n",
    "    'Craving_Category_Comforting': [1],  # Example: craving comforting food\n",
    "    'Craving_Category_Heart': [0],\n",
    "    'Craving_Category_Light': [0],\n",
    "    'Craving_Category_Salty': [1],  # Example: craving salty food\n",
    "    'Craving_Category_Spicy': [0],\n",
    "    'Craving_Category_Uncategorized': [0],\n",
    "    'Craving_Category_Veggie': [0]\n",
    "})\n",
    "\n",
    "\n",
    "# Ensure feature alignment\n",
    "dummy_input = dummy_input.reindex(columns=X, fill_value=0)"
   ]
  },
  {
   "cell_type": "code",
   "execution_count": 33,
   "metadata": {},
   "outputs": [],
   "source": [
    "predicted_label = grid_search.predict(dummy_input)\n"
   ]
  },
  {
   "cell_type": "code",
   "execution_count": 34,
   "metadata": {},
   "outputs": [
    {
     "name": "stdout",
     "output_type": "stream",
     "text": [
      "Predicted Restaurant Category: Lockdown Menu\n"
     ]
    }
   ],
   "source": [
    "decoded_label = label_encoder.inverse_transform(predicted_label)\n",
    "print(\"Predicted Restaurant Category:\", decoded_label[0])"
   ]
  },
  {
   "cell_type": "code",
   "execution_count": null,
   "metadata": {},
   "outputs": [],
   "source": []
  }
 ],
 "metadata": {
  "kernelspec": {
   "display_name": "venv",
   "language": "python",
   "name": "python3"
  },
  "language_info": {
   "codemirror_mode": {
    "name": "ipython",
    "version": 3
   },
   "file_extension": ".py",
   "mimetype": "text/x-python",
   "name": "python",
   "nbconvert_exporter": "python",
   "pygments_lexer": "ipython3",
   "version": "3.12.6"
  }
 },
 "nbformat": 4,
 "nbformat_minor": 2
}
